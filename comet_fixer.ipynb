{
 "cells": [
  {
   "cell_type": "code",
   "execution_count": 1,
   "id": "67645a32-de22-49a0-b2b7-99073fb4d4b6",
   "metadata": {},
   "outputs": [
    {
     "name": "stderr",
     "output_type": "stream",
     "text": [
      "/omics/odcf/analysis/OE0536_projects_temp/spatialomicsdata/MICHELE/COMET_FIX/aligner/lib/python3.11/site-packages/tqdm/auto.py:21: TqdmWarning: IProgress not found. Please update jupyter and ipywidgets. See https://ipywidgets.readthedocs.io/en/stable/user_install.html\n",
      "  from .autonotebook import tqdm as notebook_tqdm\n"
     ]
    }
   ],
   "source": [
    "import palom\n",
    "import dask.array as da\n",
    "import tifffile\n",
    "import ome_types\n",
    "from unidecode import unidecode"
   ]
  },
  {
   "cell_type": "markdown",
   "id": "6ea58974-f99f-4dfd-a109-9f483ed4994c",
   "metadata": {},
   "source": [
    "Based on the example at: https://github.com/labsyspharm/palom?tab=readme-ov-file#for-tiff-and-ome-tiff-files"
   ]
  },
  {
   "cell_type": "code",
   "execution_count": 2,
   "id": "6ededa04-ac80-4277-851c-f1c5e0b411e9",
   "metadata": {},
   "outputs": [],
   "source": [
    "path1 = \"\" # First tiff file, the run metadata are read from here\n",
    "path2 = \"\" # Second tiff file"
   ]
  },
  {
   "cell_type": "code",
   "execution_count": 3,
   "id": "66240505-b1ea-441c-af75-932c17d59ed8",
   "metadata": {},
   "outputs": [],
   "source": [
    "c1r = palom.reader.OmePyramidReader(path1)\n",
    "c2r = palom.reader.OmePyramidReader(path2)"
   ]
  },
  {
   "cell_type": "code",
   "execution_count": 4,
   "id": "7be09fb1-abf1-4c62-92d5-c73fa63e41b1",
   "metadata": {},
   "outputs": [],
   "source": [
    "# `LEVEL = 0` for processing lowest level pyramid (full resolution)\n",
    "LEVEL = 0\n",
    "# choose a higher pyramid level for feature-based affine registration as\n",
    "# initial coarse alignment\n",
    "THUMBNAIL_LEVEL = c1r.get_thumbnail_level_of_size(1000)"
   ]
  },
  {
   "cell_type": "code",
   "execution_count": 5,
   "id": "8b6cc530-b286-4f14-92ed-4c473dc4d826",
   "metadata": {},
   "outputs": [],
   "source": [
    "c21l = palom.align.Aligner(\n",
    "    ref_img=c1r.read_level_channels(LEVEL, 0),\n",
    "    moving_img=c2r.read_level_channels(LEVEL, 0),\n",
    "    ref_thumbnail=c1r.read_level_channels(THUMBNAIL_LEVEL, 0).compute(),\n",
    "    moving_thumbnail=c2r.read_level_channels(THUMBNAIL_LEVEL, 1).compute(),\n",
    "    ref_thumbnail_down_factor=c1r.level_downsamples[THUMBNAIL_LEVEL] / c1r.level_downsamples[LEVEL],\n",
    "    moving_thumbnail_down_factor=c2r.level_downsamples[THUMBNAIL_LEVEL] / c2r.level_downsamples[LEVEL]\n",
    ")"
   ]
  },
  {
   "cell_type": "code",
   "execution_count": 6,
   "id": "2e0fee53-8e0e-4fb7-a208-8bf617fc1f28",
   "metadata": {},
   "outputs": [
    {
     "name": "stderr",
     "output_type": "stream",
     "text": [
      "\u001b[32m2025-08-04 13:53:37.299\u001b[0m | \u001b[34m\u001b[1mDEBUG   \u001b[0m | \u001b[36mpalom.register\u001b[0m:\u001b[36mcv2_feature_detect_and_match\u001b[0m:\u001b[36m288\u001b[0m - \u001b[34m\u001b[1mkeypts L:4000, keypts R:4000\u001b[0m\n",
      "\u001b[32m2025-08-04 13:53:37.634\u001b[0m | \u001b[34m\u001b[1mDEBUG   \u001b[0m | \u001b[36mpalom.register\u001b[0m:\u001b[36mcv2_feature_detect_and_match\u001b[0m:\u001b[36m288\u001b[0m - \u001b[34m\u001b[1mkeypts L:3953, keypts R:4000\u001b[0m\n",
      "\u001b[32m2025-08-04 13:53:37.939\u001b[0m | \u001b[34m\u001b[1mDEBUG   \u001b[0m | \u001b[36mpalom.register\u001b[0m:\u001b[36mcv2_feature_detect_and_match\u001b[0m:\u001b[36m288\u001b[0m - \u001b[34m\u001b[1mkeypts L:4000, keypts R:4000\u001b[0m\n",
      "\u001b[32m2025-08-04 13:53:38.244\u001b[0m | \u001b[34m\u001b[1mDEBUG   \u001b[0m | \u001b[36mpalom.register\u001b[0m:\u001b[36mcv2_feature_detect_and_match\u001b[0m:\u001b[36m288\u001b[0m - \u001b[34m\u001b[1mkeypts L:3188, keypts R:3235\u001b[0m\n",
      "\u001b[32m2025-08-04 13:53:38.421\u001b[0m | \u001b[1mINFO    \u001b[0m | \u001b[36mpalom.align\u001b[0m:\u001b[36mcompute_shifts\u001b[0m:\u001b[36m203\u001b[0m - \u001b[1mComputing block-wise shifts\u001b[0m\n",
      "Computing shifts: 100%|##########| 27786/27786 [01:25<00:00, 324.80it/s] \n"
     ]
    }
   ],
   "source": [
    "# run feature-based affine registration using thumbnails\n",
    "c21l.coarse_register_affine(n_keypoints=4000, plot_match_result=False)\n",
    "# after coarsly affine registered, run phase correlation on each of the\n",
    "# corresponding chunks (blocks/pieces) to refine translations\n",
    "c21l.compute_shifts()\n",
    "# discard incorrect shifts which is usually due to low contrast in the\n",
    "# background regions; this is needed for WSI but maybe not for ROI images\n",
    "c21l.constrain_shifts()"
   ]
  },
  {
   "cell_type": "code",
   "execution_count": 7,
   "id": "7049765a-d604-4e2b-903a-c13eb993f9af",
   "metadata": {},
   "outputs": [],
   "source": [
    "# configure the transformation of aligning the moving image to the registration\n",
    "# reference\n",
    "c2m = palom.align.block_affine_transformed_moving_img(\n",
    "    ref_img=c1r.read_level_channels(LEVEL, 0),\n",
    "    # select all the three channels (RGB) in moving image to transform\n",
    "    moving_img=c2r.pyramid[LEVEL],\n",
    "    mxs=c21l.block_affine_matrices_da\n",
    ")"
   ]
  },
  {
   "cell_type": "code",
   "execution_count": 8,
   "id": "57d5fa76-e0c1-4e9c-8ae2-7973d703e18f",
   "metadata": {},
   "outputs": [
    {
     "data": {
      "text/plain": [
       "(5, 31946, 31953)"
      ]
     },
     "execution_count": 8,
     "metadata": {},
     "output_type": "execute_result"
    }
   ],
   "source": [
    "c2m.shape"
   ]
  },
  {
   "cell_type": "code",
   "execution_count": 9,
   "id": "4015550b-b029-437f-ad1e-a355c48d156a",
   "metadata": {},
   "outputs": [
    {
     "data": {
      "text/plain": [
       "(9, 31946, 31953)"
      ]
     },
     "execution_count": 9,
     "metadata": {},
     "output_type": "execute_result"
    }
   ],
   "source": [
    "c1r.pyramid[LEVEL].shape"
   ]
  },
  {
   "cell_type": "code",
   "execution_count": 10,
   "id": "f6a90133-2113-44e9-8dd4-297f121b7bc1",
   "metadata": {},
   "outputs": [
    {
     "data": {
      "text/plain": [
       "(14, 31946, 31953)"
      ]
     },
     "execution_count": 10,
     "metadata": {},
     "output_type": "execute_result"
    }
   ],
   "source": [
    "# Concatenate the registered image to the first image (full resolution)\n",
    "img = da.concatenate([c1r.pyramid[LEVEL], c2m], axis=0)\n",
    "img.shape"
   ]
  },
  {
   "cell_type": "code",
   "execution_count": 11,
   "id": "b52798ff-7717-4919-b904-247bd69ec71d",
   "metadata": {},
   "outputs": [
    {
     "name": "stderr",
     "output_type": "stream",
     "text": [
      "\u001b[32m2025-08-04 13:55:56.959\u001b[0m | \u001b[1mINFO    \u001b[0m | \u001b[36mpalom.reader\u001b[0m:\u001b[36mpixel_size\u001b[0m:\u001b[36m156\u001b[0m - \u001b[1mDetected pixel size: 0.2800 µm\u001b[0m\n",
      "\u001b[32m2025-08-04 13:55:56.961\u001b[0m | \u001b[1mINFO    \u001b[0m | \u001b[36mpalom.pyramid\u001b[0m:\u001b[36mwrite_pyramid\u001b[0m:\u001b[36m170\u001b[0m - \u001b[1mWriting to OUTPUT/COVIMAX-001.ome.tif\u001b[0m\n",
      "Assembling mosaic  1/ 1 (channel  1/14): 100%|##########| 7939/7939 [00:06<00:00, 1203.70it/s]\n",
      "Assembling mosaic  1/ 1 (channel  2/14): 100%|##########| 7939/7939 [00:13<00:00, 568.15it/s] \n",
      "Assembling mosaic  1/ 1 (channel  3/14): 100%|##########| 7939/7939 [00:16<00:00, 469.80it/s] \n",
      "Assembling mosaic  1/ 1 (channel  4/14): 100%|##########| 7939/7939 [00:06<00:00, 1215.72it/s]\n",
      "Assembling mosaic  1/ 1 (channel  5/14): 100%|##########| 7939/7939 [00:06<00:00, 1174.88it/s]\n",
      "Assembling mosaic  1/ 1 (channel  6/14): 100%|##########| 7939/7939 [00:06<00:00, 1190.18it/s]\n",
      "Assembling mosaic  1/ 1 (channel  7/14): 100%|##########| 7939/7939 [00:05<00:00, 1357.34it/s]\n",
      "Assembling mosaic  1/ 1 (channel  8/14): 100%|##########| 7939/7939 [00:06<00:00, 1157.51it/s]\n",
      "Assembling mosaic  1/ 1 (channel  9/14): 100%|##########| 7939/7939 [00:04<00:00, 1619.24it/s]\n",
      "Assembling mosaic  1/ 1 (channel 10/14): 100%|##########| 15879/15879 [00:20<00:00, 776.01it/s]\n",
      "Assembling mosaic  1/ 1 (channel 11/14): 100%|##########| 15879/15879 [00:20<00:00, 767.41it/s] \n",
      "Assembling mosaic  1/ 1 (channel 12/14): 100%|##########| 15879/15879 [00:20<00:00, 793.70it/s] \n",
      "Assembling mosaic  1/ 1 (channel 13/14): 100%|##########| 15879/15879 [00:19<00:00, 831.83it/s] \n",
      "Assembling mosaic  1/ 1 (channel 14/14): 100%|##########| 15879/15879 [00:36<00:00, 430.41it/s] \n",
      "\u001b[32m2025-08-04 14:04:26.104\u001b[0m | \u001b[1mINFO    \u001b[0m | \u001b[36mpalom.pyramid\u001b[0m:\u001b[36mwrite_pyramid\u001b[0m:\u001b[36m197\u001b[0m - \u001b[1mGenerating pyramid\u001b[0m\n",
      "\u001b[32m2025-08-04 14:04:26.107\u001b[0m | \u001b[1mINFO    \u001b[0m | \u001b[36mpalom.pyramid\u001b[0m:\u001b[36mwrite_pyramid\u001b[0m:\u001b[36m200\u001b[0m - \u001b[1m    Level 1 (15973 x 15977)\u001b[0m\n",
      "Processing channel: 100%|##########| 14/14 [02:46<00:00, 11.89s/it]\n",
      "\u001b[32m2025-08-04 14:07:12.664\u001b[0m | \u001b[1mINFO    \u001b[0m | \u001b[36mpalom.pyramid\u001b[0m:\u001b[36mwrite_pyramid\u001b[0m:\u001b[36m200\u001b[0m - \u001b[1m    Level 2 (7987 x 7989)\u001b[0m\n",
      "Processing channel: 100%|##########| 14/14 [00:42<00:00,  3.06s/it]\n",
      "\u001b[32m2025-08-04 14:07:56.635\u001b[0m | \u001b[1mINFO    \u001b[0m | \u001b[36mpalom.pyramid\u001b[0m:\u001b[36mwrite_pyramid\u001b[0m:\u001b[36m200\u001b[0m - \u001b[1m    Level 3 (3994 x 3995)\u001b[0m\n",
      "Processing channel: 100%|##########| 14/14 [00:17<00:00,  1.22s/it]\n",
      "\u001b[32m2025-08-04 14:08:14.125\u001b[0m | \u001b[1mINFO    \u001b[0m | \u001b[36mpalom.pyramid\u001b[0m:\u001b[36mwrite_pyramid\u001b[0m:\u001b[36m200\u001b[0m - \u001b[1m    Level 4 (1997 x 1998)\u001b[0m\n",
      "Processing channel: 100%|##########| 14/14 [00:10<00:00,  1.36it/s]\n",
      "\u001b[32m2025-08-04 14:08:24.525\u001b[0m | \u001b[1mINFO    \u001b[0m | \u001b[36mpalom.pyramid\u001b[0m:\u001b[36mwrite_pyramid\u001b[0m:\u001b[36m200\u001b[0m - \u001b[1m    Level 5 (999 x 999)\u001b[0m\n",
      "Processing channel: 100%|##########| 14/14 [00:08<00:00,  1.70it/s]\n"
     ]
    }
   ],
   "source": [
    "# Write out the OME-TIFF\n",
    "\n",
    "output_path = \"\"\n",
    "\n",
    "palom.pyramid.write_pyramid(\n",
    "    mosaics=[img],\n",
    "    output_path=output_path,\n",
    "    pixel_size=c1r.pixel_size*c1r.level_downsamples[LEVEL],\n",
    "    save_RAM=False\n",
    ")"
   ]
  },
  {
   "cell_type": "code",
   "execution_count": 12,
   "id": "433234e1-ebed-4942-ba40-de1390e90cf5",
   "metadata": {},
   "outputs": [],
   "source": [
    "# Reads the meatada from the first tiff file, these will be copied to the registered OME-TIFF\n",
    "with tifffile.TiffFile(path1) as tif:\n",
    "    ome_xml1 = tif.ome_metadata\n",
    "ome1 = ome_types.from_xml(ome_xml1)"
   ]
  },
  {
   "cell_type": "code",
   "execution_count": 13,
   "id": "ffeb08b6-1ddc-4d41-aa33-dcfa6fd897d1",
   "metadata": {},
   "outputs": [],
   "source": [
    "# Reads the meatada from the second tiff file, these will be used to get channel and cycle metadata\n",
    "with tifffile.TiffFile(path2) as tif:\n",
    "    ome_xml2 = tif.ome_metadata\n",
    "ome2 = ome_types.from_xml(ome_xml2)"
   ]
  },
  {
   "cell_type": "code",
   "execution_count": 14,
   "id": "180f4dd3-3997-4794-b415-d60fe41658ef",
   "metadata": {},
   "outputs": [
    {
     "data": {
      "text/plain": [
       "[Plane(\n",
       "    the_z=0,\n",
       "    the_t=0,\n",
       "    the_c=0,\n",
       "    exposure_time=40.0,\n",
       "    exposure_time_unit='ms',\n",
       " ),\n",
       " Plane(\n",
       "    the_z=0,\n",
       "    the_t=0,\n",
       "    the_c=1,\n",
       "    exposure_time=250.0,\n",
       "    exposure_time_unit='ms',\n",
       " ),\n",
       " Plane(\n",
       "    the_z=0,\n",
       "    the_t=0,\n",
       "    the_c=2,\n",
       "    exposure_time=400.0,\n",
       "    exposure_time_unit='ms',\n",
       " ),\n",
       " Plane(\n",
       "    the_z=0,\n",
       "    the_t=0,\n",
       "    the_c=3,\n",
       "    exposure_time=250.0,\n",
       "    exposure_time_unit='ms',\n",
       " ),\n",
       " Plane(\n",
       "    the_z=0,\n",
       "    the_t=0,\n",
       "    the_c=4,\n",
       "    exposure_time=400.0,\n",
       "    exposure_time_unit='ms',\n",
       " ),\n",
       " Plane(\n",
       "    the_z=0,\n",
       "    the_t=0,\n",
       "    the_c=5,\n",
       "    exposure_time=250.0,\n",
       "    exposure_time_unit='ms',\n",
       " ),\n",
       " Plane(\n",
       "    the_z=0,\n",
       "    the_t=0,\n",
       "    the_c=6,\n",
       "    exposure_time=400.0,\n",
       "    exposure_time_unit='ms',\n",
       " ),\n",
       " Plane(\n",
       "    the_z=0,\n",
       "    the_t=0,\n",
       "    the_c=7,\n",
       "    exposure_time=250.0,\n",
       "    exposure_time_unit='ms',\n",
       " ),\n",
       " Plane(\n",
       "    the_z=0,\n",
       "    the_t=0,\n",
       "    the_c=8,\n",
       "    exposure_time=400.0,\n",
       "    exposure_time_unit='ms',\n",
       " ),\n",
       " Plane(\n",
       "    the_z=0,\n",
       "    the_t=0,\n",
       "    the_c=9,\n",
       "    exposure_time=40.0,\n",
       "    exposure_time_unit='ms',\n",
       " ),\n",
       " Plane(\n",
       "    the_z=0,\n",
       "    the_t=0,\n",
       "    the_c=10,\n",
       "    exposure_time=250.0,\n",
       "    exposure_time_unit='ms',\n",
       " ),\n",
       " Plane(\n",
       "    the_z=0,\n",
       "    the_t=0,\n",
       "    the_c=11,\n",
       "    exposure_time=400.0,\n",
       "    exposure_time_unit='ms',\n",
       " ),\n",
       " Plane(\n",
       "    the_z=0,\n",
       "    the_t=0,\n",
       "    the_c=12,\n",
       "    exposure_time=250.0,\n",
       "    exposure_time_unit='ms',\n",
       " ),\n",
       " Plane(\n",
       "    the_z=0,\n",
       "    the_t=0,\n",
       "    the_c=13,\n",
       "    exposure_time=400.0,\n",
       "    exposure_time_unit='ms',\n",
       " )]"
      ]
     },
     "execution_count": 14,
     "metadata": {},
     "output_type": "execute_result"
    }
   ],
   "source": [
    "## Add channels from the other image to the first\n",
    "c1 = c1r.pyramid[LEVEL].shape[0]\n",
    "c2 = c2m.shape[0]\n",
    "for c in range(c2):\n",
    "    ome2.images[0].pixels.channels[c].id = f\"Channel:{c + c1}\"\n",
    "    ome2.images[0].pixels.planes[c].the_c = c + c1 # start from the end of the first image\n",
    "ome1.images[0].pixels.channels = ome1.images[0].pixels.channels + ome2.images[0].pixels.channels\n",
    "ome1.images[0].pixels.planes = ome1.images[0].pixels.planes + ome2.images[0].pixels.planes\n",
    "ome1.images[0].pixels.size_c = c1 + c2\n",
    "ome1.images[0].pixels.planes"
   ]
  },
  {
   "cell_type": "code",
   "execution_count": 15,
   "id": "990ad651-89f9-476b-8757-9aee444d8c4c",
   "metadata": {},
   "outputs": [
    {
     "data": {
      "text/plain": [
       "[AnyElement(qname='{http://www.openmicroscopy.org/Schemas/OME/2016-06}ChannelPriv', text='', tail=None, children=[], attributes={'ID': 'Channel:0', 'CycleID': '0', 'LedCurrent': '20', 'LedCurrentUnit': 'mA', 'SensorGain': '0', 'FluorescenceChannel': 'DAPI'}),\n",
       " AnyElement(qname='{http://www.openmicroscopy.org/Schemas/OME/2016-06}ChannelPriv', text='', tail=None, children=[], attributes={'ID': 'Channel:1', 'CycleID': '0', 'LedCurrent': '1700', 'LedCurrentUnit': 'mA', 'SensorGain': '0', 'FluorescenceChannel': 'TRITC'}),\n",
       " AnyElement(qname='{http://www.openmicroscopy.org/Schemas/OME/2016-06}ChannelPriv', text='', tail=None, children=[], attributes={'ID': 'Channel:2', 'CycleID': '0', 'LedCurrent': '850', 'LedCurrentUnit': 'mA', 'SensorGain': '0', 'FluorescenceChannel': 'Cy5'}),\n",
       " AnyElement(qname='{http://www.openmicroscopy.org/Schemas/OME/2016-06}ChannelPriv', text='', tail=None, children=[], attributes={'ID': 'Channel:3', 'CycleID': '1', 'LedCurrent': '1700', 'LedCurrentUnit': 'mA', 'SensorGain': '0', 'FluorescenceChannel': 'TRITC'}),\n",
       " AnyElement(qname='{http://www.openmicroscopy.org/Schemas/OME/2016-06}ChannelPriv', text='', tail=None, children=[], attributes={'ID': 'Channel:4', 'CycleID': '1', 'LedCurrent': '850', 'LedCurrentUnit': 'mA', 'SensorGain': '0', 'FluorescenceChannel': 'Cy5'}),\n",
       " AnyElement(qname='{http://www.openmicroscopy.org/Schemas/OME/2016-06}ChannelPriv', text='', tail=None, children=[], attributes={'ID': 'Channel:5', 'CycleID': '2', 'LedCurrent': '1700', 'LedCurrentUnit': 'mA', 'SensorGain': '0', 'FluorescenceChannel': 'TRITC'}),\n",
       " AnyElement(qname='{http://www.openmicroscopy.org/Schemas/OME/2016-06}ChannelPriv', text='', tail=None, children=[], attributes={'ID': 'Channel:6', 'CycleID': '2', 'LedCurrent': '850', 'LedCurrentUnit': 'mA', 'SensorGain': '0', 'FluorescenceChannel': 'Cy5'}),\n",
       " AnyElement(qname='{http://www.openmicroscopy.org/Schemas/OME/2016-06}ChannelPriv', text='', tail=None, children=[], attributes={'ID': 'Channel:7', 'CycleID': '3', 'LedCurrent': '1700', 'LedCurrentUnit': 'mA', 'SensorGain': '0', 'FluorescenceChannel': 'TRITC'}),\n",
       " AnyElement(qname='{http://www.openmicroscopy.org/Schemas/OME/2016-06}ChannelPriv', text='', tail=None, children=[], attributes={'ID': 'Channel:8', 'CycleID': '3', 'LedCurrent': '850', 'LedCurrentUnit': 'mA', 'SensorGain': '0', 'FluorescenceChannel': 'Cy5'}),\n",
       " AnyElement(qname='{http://www.openmicroscopy.org/Schemas/OME/2016-06}ChannelPriv', text='', tail=None, children=[], attributes={'ID': 'Channel:9', 'CycleID': '4', 'LedCurrent': '20', 'LedCurrentUnit': 'mA', 'SensorGain': '0', 'FluorescenceChannel': 'DAPI'}),\n",
       " AnyElement(qname='{http://www.openmicroscopy.org/Schemas/OME/2016-06}ChannelPriv', text='', tail=None, children=[], attributes={'ID': 'Channel:10', 'CycleID': '4', 'LedCurrent': '1700', 'LedCurrentUnit': 'mA', 'SensorGain': '0', 'FluorescenceChannel': 'TRITC'}),\n",
       " AnyElement(qname='{http://www.openmicroscopy.org/Schemas/OME/2016-06}ChannelPriv', text='', tail=None, children=[], attributes={'ID': 'Channel:11', 'CycleID': '4', 'LedCurrent': '850', 'LedCurrentUnit': 'mA', 'SensorGain': '0', 'FluorescenceChannel': 'Cy5'}),\n",
       " AnyElement(qname='{http://www.openmicroscopy.org/Schemas/OME/2016-06}ChannelPriv', text='', tail=None, children=[], attributes={'ID': 'Channel:12', 'CycleID': '5', 'LedCurrent': '1700', 'LedCurrentUnit': 'mA', 'SensorGain': '0', 'FluorescenceChannel': 'TRITC'}),\n",
       " AnyElement(qname='{http://www.openmicroscopy.org/Schemas/OME/2016-06}ChannelPriv', text='', tail=None, children=[], attributes={'ID': 'Channel:13', 'CycleID': '5', 'LedCurrent': '850', 'LedCurrentUnit': 'mA', 'SensorGain': '0', 'FluorescenceChannel': 'Cy5'})]"
      ]
     },
     "execution_count": 15,
     "metadata": {},
     "output_type": "execute_result"
    }
   ],
   "source": [
    "## Add cycle metadata from the second image to the COMET Horizon, structured annotation \n",
    "c1 = ome1.structured_annotations[0].value.any_elements[0].children\n",
    "c2 = ome2.structured_annotations[0].value.any_elements[0].children\n",
    "cycleid = int(c1[-1].attributes[\"CycleID\"]) + 1\n",
    "channel = int(c1[-1].attributes[\"ID\"].split(\":\")[-1]) + 1\n",
    "for c in c2:\n",
    "    c.attributes[\"CycleID\"] = str(int(c.attributes[\"CycleID\"]) + cycleid)\n",
    "    c.attributes[\"ID\"] = \"Channel:\"+ str(int(c.attributes[\"ID\"].split(\":\")[-1]) + channel)\n",
    "ome1.structured_annotations[0].value.any_elements[0].children = c1 + c2\n",
    "ome1.structured_annotations[0].value.any_elements[0].children"
   ]
  },
  {
   "cell_type": "code",
   "execution_count": 16,
   "id": "b41badd2-750d-430a-aad4-0d138c858c1b",
   "metadata": {},
   "outputs": [],
   "source": [
    "# Convert back to XML and represent unicode as ASCII\n",
    "ome_xml = ome1.to_xml()\n",
    "ome_xml = unidecode(ome_xml)"
   ]
  },
  {
   "cell_type": "code",
   "execution_count": 17,
   "id": "a6cd7883-fb31-4604-ab03-9021db019550",
   "metadata": {},
   "outputs": [],
   "source": [
    "# Write the new XML metadata to the output file (overwrites)\n",
    "tifffile.tiffcomment(output_path, ome_xml)"
   ]
  },
  {
   "cell_type": "code",
   "execution_count": null,
   "id": "ca2a0427-f9e4-4138-a196-47b16c835ca9",
   "metadata": {},
   "outputs": [],
   "source": []
  },
  {
   "cell_type": "code",
   "execution_count": null,
   "id": "1dddb72e-50a0-4857-803f-c0b9a4d859a4",
   "metadata": {},
   "outputs": [],
   "source": []
  }
 ],
 "metadata": {
  "kernelspec": {
   "display_name": "comet_aligner",
   "language": "python",
   "name": "comet_aligner"
  },
  "language_info": {
   "codemirror_mode": {
    "name": "ipython",
    "version": 3
   },
   "file_extension": ".py",
   "mimetype": "text/x-python",
   "name": "python",
   "nbconvert_exporter": "python",
   "pygments_lexer": "ipython3",
   "version": "3.11.2"
  }
 },
 "nbformat": 4,
 "nbformat_minor": 5
}
